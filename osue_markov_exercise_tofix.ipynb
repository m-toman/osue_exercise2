{
 "cells": [
  {
   "cell_type": "markdown",
   "metadata": {
    "colab_type": "text",
    "id": "8QCb5Lh6UQ44"
   },
   "source": [
    "# Prerequisites"
   ]
  },
  {
   "cell_type": "code",
   "execution_count": 1,
   "metadata": {
    "colab": {
     "base_uri": "https://localhost:8080/",
     "height": 119
    },
    "colab_type": "code",
    "id": "6Gf6k9zNSyOt",
    "outputId": "f7b85712-2bd4-4fdf-9324-bd1515431271"
   },
   "outputs": [],
   "source": [
    "%matplotlib inline\n",
    "import random\n",
    "import os\n",
    "import numpy as np\n",
    "import matplotlib.pyplot as plt"
   ]
  },
  {
   "cell_type": "markdown",
   "metadata": {
    "colab_type": "text",
    "id": "6Fet57psSyOz"
   },
   "source": [
    "# Data and utils"
   ]
  },
  {
   "cell_type": "code",
   "execution_count": 2,
   "metadata": {
    "colab": {
     "base_uri": "https://localhost:8080/",
     "height": 581
    },
    "colab_type": "code",
    "id": "0xp80l-9SyO0",
    "outputId": "ab63efea-3f3f-445b-9655-5838b0239b02"
   },
   "outputs": [
    {
     "data": {
      "image/png": "[encoded data removed]",
      "text/plain": [
       "<matplotlib.figure.Figure at 0x10b6cb1d0>"
      ]
     },
     "metadata": {},
     "output_type": "display_data"
    },
    {
     "data": {
      "image/png": "[encoded data removed]",
      "text/plain": [
       "<matplotlib.figure.Figure at 0x10b700fd0>"
      ]
     },
     "metadata": {},
     "output_type": "display_data"
    }
   ],
   "source": [
    "users = [\"A\", \"B\", \"C\"]  # the three users we are interested in\n",
    "states = {\"work\": 0, \"pause\": 1, \"game\": 2, \"browse\": 3, \"stream\": 4}   # their states (activities)\n",
    "states_inv = {v: k for k, v in states.items()}\n",
    "observations = {\"none\": 0, \"very_low\": 1, \"low\": 2, \"medium\": 3, \"high\": 4, \"very_high\": 5}   # our observations (LED blinking frequency)\n",
    "observations_inv = {v: k for k, v in observations.items()}\n",
    "\n",
    "def convert_state(state):\n",
    "    return states[state]\n",
    "\n",
    "\n",
    "def convert_observation(observation):\n",
    "    return observations[observation]\n",
    "\n",
    "def convert_state_observation(state_observation, sep=','):\n",
    "    state, observation = state_observation.split(sep)\n",
    "    return (convert_state(state), convert_observation(observation))\n",
    "\n",
    "\n",
    "def load_activities(users):\n",
    "    \"\"\" Loads activities for all users from file \"\"\"\n",
    "    activities_data = {}   # map user -> activties_data\n",
    "    for u in users:\n",
    "        # load activities CSV\n",
    "        path = os.path.join(\"data\", u + \"_activities.csv\")\n",
    "        data = np.genfromtxt(path, dtype='unicode', delimiter='|')\n",
    "        # we are only interested in the second column\n",
    "        # and map the activity names to indices\n",
    "        activities_data[u] = [list(map(convert_state, d.split())) for d in data[:, 1]]\n",
    "    return activities_data\n",
    "\n",
    "\n",
    "def load_observations():\n",
    "    \"\"\" Loads observations from file \"\"\"\n",
    "    # load observations CSV\n",
    "    path = os.path.join(\"data\", \"observations.csv\")\n",
    "    data = np.genfromtxt(path, dtype='unicode', delimiter='|')\n",
    "    \n",
    "    # full matrix\n",
    "    full_data = np.vstack((\n",
    "              np.vectorize(states.get)(data[:, 0]),\n",
    "              np.vectorize(observations.get)(data[:, 1]))).T\n",
    "    \n",
    "    # counts per activity, matrix activity x observation\n",
    "    # dictionary with keys activity, values arrays \n",
    "    # as arr[observation] == count\n",
    "    observation_counts = np.ones((len(states), len(observations)))\n",
    "    for row in full_data:\n",
    "        activity, observation = row\n",
    "        observation_counts[activity][observation] += 1.0\n",
    "    return (full_data, observation_counts)\n",
    "\n",
    "\n",
    "def load_testsets(users):\n",
    "    \"\"\" Load testsets from the files. \"\"\"\n",
    "    activities_data = {}   # map user -> activties_data\n",
    "    for u in users:\n",
    "        # load activities CSV\n",
    "        path = os.path.join(\"data\", u + \"_testset.csv\")\n",
    "        data = np.genfromtxt(path, dtype='unicode', delimiter='|')\n",
    "        # we are only interested in the second column\n",
    "        # and map the activity/observation names to tuples of indices\n",
    "        activities_data[u] = [list(map(convert_state_observation, d.split())) for d in data[:, 1]]\n",
    "    return activities_data\n",
    "    \n",
    "    \n",
    "def split_testset(activities_data, test_set_size=3):\n",
    "    \"\"\" Splits activities data in training and test set \"\"\"\n",
    "    random.seed(1234)\n",
    "    random.shuffle(activities_data)\n",
    "    return (activities_data[test_set_size:],\n",
    "            activities_data[:test_set_size])\n",
    "    \n",
    "\n",
    "def plot_transition_matrices(models):\n",
    "    \"\"\" Plots transition matrices for the provided models \"\"\"\n",
    "    fig, axarr = plt.subplots(1, len(models))\n",
    "    plt_num = 0\n",
    "    for user in models:\n",
    "        A = models[user][0]\n",
    "        axarr[plt_num].matshow(A)\n",
    "        axarr[plt_num].set_title(\"Transition matrix \" + user, y=-0.3)\n",
    "        plt_num += 1\n",
    "    plt.tight_layout()\n",
    "    plt.show()\n",
    "    plt.close(fig)\n",
    "    \n",
    "    \n",
    "def plot_graphs(models):\n",
    "    \"\"\" Plots graphs for the provided models \"\"\"\n",
    "    import networkx as nx\n",
    "    fig, axarr = plt.subplots(1, len(models))\n",
    "    plt_num = 0\n",
    "    for user in models:\n",
    "        A = models[user][0]\n",
    "        G = nx.from_numpy_matrix(A)\n",
    "        nx.draw(G)\n",
    "        axarr[plt_num].set_title(\"Transition matrix \" + user, y=-0.3)\n",
    "        plt_num += 1\n",
    "    plt.tight_layout()\n",
    "    plt.show()\n",
    "    plt.close(fig)\n",
    "\n",
    "\n",
    "def plot_results(results_matrix):\n",
    "    \"\"\" Plots classification results \"\"\"\n",
    "    fig = plt.figure(figsize=(100,100))\n",
    "    plt.matshow(results_matrix)\n",
    "    plt.show()\n",
    "    plt.close(fig)\n",
    "\n",
    "\n",
    "def plot_models(models):\n",
    "    # chain model\n",
    "    # if (len(model) == 2):\n",
    "    plot_transition_matrices(models)\n",
    "    #plot_graphs(models)\n",
    "\n",
    "    \n",
    "def plot_observation_counts(observation_counts):\n",
    "    \"\"\" Plots transition matrices for the provided models \"\"\"\n",
    "    fig, axarr = plt.subplots(1, len(observation_counts))\n",
    "    plt_num = 0\n",
    "    for idx, row in enumerate(observation_counts):\n",
    "        counts = [int(c) for c in row]\n",
    "        axarr[plt_num].bar(range(len(counts)), counts)\n",
    "        axarr[plt_num].set_title(states_inv[idx], y=-0.15)\n",
    "        plt_num += 1\n",
    "    plt.tight_layout()\n",
    "    plt.show()\n",
    "    plt.close(fig)\n",
    "\n",
    "\n",
    "def plot_activities(activities_data):\n",
    "    fig, axarr = plt.subplots(1, len(activities_data))\n",
    "    plt_num = 0\n",
    "    for user in activities_data:\n",
    "        user_activities = activities_data[user]\n",
    "        flat_activites = [i for sl in user_activities for i in sl]\n",
    "        bins = sorted(states.values())\n",
    "        bins.append(len(states))\n",
    "        axarr[plt_num].hist(flat_activites, bins=bins)\n",
    "        axarr[plt_num].set_xticks(bins)\n",
    "        axarr[plt_num].set_title(\"State counts \" + user, y=-0.2)\n",
    "        plt_num += 1\n",
    "    plt.tight_layout()\n",
    "    plt.show()\n",
    "    plt.close(fig)\n",
    "\n",
    "\n",
    "# load data into global variables\n",
    "activities_data = load_activities(users)\n",
    "testset_data = load_testsets(users)\n",
    "observations_data, observations_counts = load_observations()\n",
    "\n",
    "plot_activities(activities_data)\n",
    "plot_observation_counts(observations_counts)"
   ]
  },
  {
   "cell_type": "markdown",
   "metadata": {
    "colab_type": "text",
    "id": "Ug-e8PIWSyO5"
   },
   "source": [
    "# Task 1: Markov chain model"
   ]
  },
  {
   "cell_type": "code",
   "execution_count": 3,
   "metadata": {
    "colab": {},
    "colab_type": "code",
    "collapsed": true,
    "id": "Rp7yIbiHSyO6"
   },
   "outputs": [],
   "source": [
    "def init_chain_model(states):\n",
    "    \"\"\" Initialize an empy Markov chain model \"\"\"\n",
    "    # transition probability matrix\n",
    "    A = np.zeros((len(states), len(states)))\n",
    "    \n",
    "    # initial state probability vector\n",
    "    I = np.zeros((1, len(states)))\n",
    "    \n",
    "    return (A, I)\n",
    "\n",
    "\n",
    "def train_chain_model(model, activities_data):\n",
    "    \"\"\" Trains a Markov chain model given activities_data \"\"\"\n",
    "    # get transition matrix and initial transition vector from model tuple\n",
    "    A, I = model # transition matrix (previous, current), initial probabilities\n",
    "    \n",
    "    # get a counts matrix of same size as A\n",
    "    # we use \"ones_like\" instead of \"zeroes_like\" so that\n",
    "    # when normalizing we don't get divisions by zero\n",
    "    # at the same time achieves Laplace smoothing\n",
    "    # https://en.wikipedia.org/wiki/Additive_smoothing\n",
    "    A_counts = np.ones_like(A)\n",
    "    I_counts = np.ones_like(I)\n",
    "    \n",
    "    # loop over sequences (one sequence per day)\n",
    "    for seq in activities_data:\n",
    "        # get initial activity for this dy\n",
    "        I_counts[0, seq[0]] += 1\n",
    "        \n",
    "        # loop activities in this day\n",
    "        for idx in range(1, len(seq)):\n",
    "            # ========================================\n",
    "            # TASK TODO: get current and last activity\n",
    "            # from sequence \"seq\"\n",
    "            # and increase the respective entry in the \n",
    "            # transition count matrix A_counts\n",
    "            # ========================================\n",
    "            curr = 0 # TO FIX\n",
    "            last = 0 # TO FIX\n",
    "            A_counts[last, curr] += 0 # TO FIX\n",
    "            \n",
    "    # normalize matrix rows to get probabilites\n",
    "    # (so that the sum of each row is 1.0)\n",
    "    # sum up rows, and then divide using broadcasting\n",
    "    # https://docs.scipy.org/doc/numpy/user/basics.broadcasting.html\n",
    "    A = A_counts / A_counts.sum(axis=1, keepdims=True)\n",
    "    I = I_counts / I_counts.sum(axis=1, keepdims=True)\n",
    "    return (A, I)\n",
    "\n",
    "\n",
    "def predict_chain_model(model, activities_data):\n",
    "    \"\"\" Run prediction on a Markov Chain model \"\"\"\n",
    "    A, I = model   # transition matrix (previous, current), initial probabilities\n",
    "    \n",
    "    predictions = []\n",
    "    # loop sequences (daily activities)\n",
    "    for seq_idx, seq in enumerate(activities_data):\n",
    "        # get initial property for first state\n",
    "        seq_prob = I[0, seq[0]]\n",
    "        \n",
    "        # loop activities per day\n",
    "        for idx in range(1, len(seq)):\n",
    "            # ===========================================\n",
    "            # TASK TODO: get current and last activity\n",
    "            # get the transition probability P(curr|last)\n",
    "            # multiply transition probabilities up for \n",
    "            # the entire sequence\n",
    "            # ===========================================\n",
    "            curr = 0 # TO FIX\n",
    "            last = 0 # TO FIX\n",
    "            seq_prob = 1.0 # TO FIX \n",
    "        predictions.append(seq_prob)\n",
    "    return predictions"
   ]
  },
  {
   "cell_type": "markdown",
   "metadata": {
    "colab_type": "text",
    "id": "AxRkZoAASyO-"
   },
   "source": [
    "## 1.1 Training"
   ]
  },
  {
   "cell_type": "code",
   "execution_count": 4,
   "metadata": {
    "colab": {
     "base_uri": "https://localhost:8080/",
     "height": 185
    },
    "colab_type": "code",
    "id": "OczEScdHSyO-",
    "outputId": "4b70e140-82bc-4ef1-e09e-c48fabe14cb5"
   },
   "outputs": [
    {
     "data": {
      "image/png": "[encoded data removed]",
      "text/plain": [
       "<matplotlib.figure.Figure at 0x10b421940>"
      ]
     },
     "metadata": {},
     "output_type": "display_data"
    }
   ],
   "source": [
    "# train our models\n",
    "chain_models = {}\n",
    "test_data = {}\n",
    "for user in activities_data:\n",
    "    user_activities_data = activities_data[user]\n",
    "    user_train_data, user_test_data = split_testset(user_activities_data, 5)\n",
    "    \n",
    "    # store test data\n",
    "    test_data[user] = user_test_data\n",
    "    \n",
    "    # initialize and then train model\n",
    "    chain_model = init_chain_model(states)\n",
    "    chain_model = train_chain_model(chain_model, user_train_data)\n",
    "    chain_models[user] = chain_model\n",
    "    \n",
    "# plot our trained models\n",
    "plot_models(chain_models)"
   ]
  },
  {
   "cell_type": "markdown",
   "metadata": {
    "colab_type": "text",
    "id": "z0HpvrpjSyPC"
   },
   "source": [
    "## 1.2 Evaluation"
   ]
  },
  {
   "cell_type": "code",
   "execution_count": 5,
   "metadata": {
    "colab": {
     "base_uri": "https://localhost:8080/",
     "height": 1046
    },
    "colab_type": "code",
    "id": "7VinCC42SyPD",
    "outputId": "438fe73d-941c-4e1b-aafe-76518a9d84f8"
   },
   "outputs": [
    {
     "name": "stdout",
     "output_type": "stream",
     "text": [
      "Testing on data for user A\n",
      "[[0.33333333 0.33333333 0.33333333 0.33333333 0.33333333]\n",
      " [0.33333333 0.33333333 0.33333333 0.33333333 0.33333333]\n",
      " [0.33333333 0.33333333 0.33333333 0.33333333 0.33333333]]\n"
     ]
    },
    {
     "data": {
      "text/plain": [
       "<matplotlib.figure.Figure at 0x10b421400>"
      ]
     },
     "metadata": {},
     "output_type": "display_data"
    },
    {
     "data": {
      "image/png": "[encoded data removed]",
      "text/plain": [
       "<matplotlib.figure.Figure at 0x10bc1e630>"
      ]
     },
     "metadata": {},
     "output_type": "display_data"
    },
    {
     "name": "stdout",
     "output_type": "stream",
     "text": [
      "Testing on data for user B\n",
      "[[0.33333333 0.33333333 0.33333333 0.33333333 0.33333333]\n",
      " [0.33333333 0.33333333 0.33333333 0.33333333 0.33333333]\n",
      " [0.33333333 0.33333333 0.33333333 0.33333333 0.33333333]]\n"
     ]
    },
    {
     "data": {
      "text/plain": [
       "<matplotlib.figure.Figure at 0x10bd799e8>"
      ]
     },
     "metadata": {},
     "output_type": "display_data"
    },
    {
     "data": {
      "image/png": "[encoded data removed]",
      "text/plain": [
       "<matplotlib.figure.Figure at 0x10bd2b9e8>"
      ]
     },
     "metadata": {},
     "output_type": "display_data"
    },
    {
     "name": "stdout",
     "output_type": "stream",
     "text": [
      "Testing on data for user C\n",
      "[[0.33333333 0.33333333 0.33333333 0.33333333 0.33333333]\n",
      " [0.33333333 0.33333333 0.33333333 0.33333333 0.33333333]\n",
      " [0.33333333 0.33333333 0.33333333 0.33333333 0.33333333]]\n"
     ]
    },
    {
     "data": {
      "text/plain": [
       "<matplotlib.figure.Figure at 0x10c2b1240>"
      ]
     },
     "metadata": {},
     "output_type": "display_data"
    },
    {
     "data": {
      "image/png": "[encoded data removed]",
      "text/plain": [
       "<matplotlib.figure.Figure at 0x10c1a4198>"
      ]
     },
     "metadata": {},
     "output_type": "display_data"
    }
   ],
   "source": [
    "# test on held-out data \n",
    "for user_data in test_data:\n",
    "    print (\"Testing on data for user \" + user_data)\n",
    "    # Calculate predictions for all models\n",
    "    predictions = [predict_chain_model(chain_models[user_model], test_data[user_data]) \n",
    "                   for user_model in chain_models]\n",
    "    \n",
    "    # Now we have a matrix of the form (users, test_activities)\n",
    "    results = np.array(predictions)\n",
    "    \n",
    "    # Normalize\n",
    "    results /= results.sum(axis=0, keepdims=True)\n",
    "    \n",
    "    # Show normalized results\n",
    "    print (results)\n",
    "    plot_results(results)"
   ]
  },
  {
   "cell_type": "markdown",
   "metadata": {
    "colab_type": "text",
    "id": "_voR8M-BSyPG"
   },
   "source": [
    "# Task 2: Hidden Markov model"
   ]
  },
  {
   "cell_type": "code",
   "execution_count": 6,
   "metadata": {
    "colab": {},
    "colab_type": "code",
    "collapsed": true,
    "id": "5XfWKGFOSyPH"
   },
   "outputs": [],
   "source": [
    "def init_hidden_markov_model(states, observations):\n",
    "    \"\"\"Initialize an empy hidden Markov model\n",
    "    \n",
    "    Zero-initializes the model parameters for a hidden Markov model.\n",
    "    \n",
    "    # Returns\n",
    "        Model as tuple (A, I, O) with transition matrix, initial state vector and \n",
    "        observation probabilities matrix respectively.\n",
    "    \"\"\"\n",
    "    # transition probability matrix (States x States)\n",
    "    # access transitions from previous_state to current_state\n",
    "    # by A[previous_state, current_state]\n",
    "    A = np.zeros((len(states), len(states)))\n",
    "    \n",
    "    # initial state probability vector (1 x States)\n",
    "    I = np.zeros((1, len(states)))\n",
    "    \n",
    "    # observation probabilities matrix (States x Observations)\n",
    "    # Access observation probabilities as O[observation, current_state]\n",
    "    O = np.zeros((len(states), len(observations)))\n",
    "    \n",
    "    return (A, I, O)\n",
    "\n",
    "\n",
    "def train_hidden_markov_model(model, activities_data, observations_counts):\n",
    "    \"\"\"Trains a hidden Markov model.\n",
    "    \n",
    "    Given activities data and observation counts, trains a hidden Markov model.\n",
    "    As we do have activities data available, training becomes simple counting and normalizing.\n",
    "    If we only had observations, we would have to use an algorithm like Baum-Welch.\n",
    "    (see for example http://www.sfs.uni-tuebingen.de/resources/em.pdf)\n",
    "    \n",
    "    # Arguments\n",
    "        model: Model generated by init_hidden_markov_model\n",
    "        activities_data: Data on user activities\n",
    "        observations_counts: Counts per observation\n",
    "    \"\"\"\n",
    "    # get transition matrix, initial transition vector and observations matrix from model tuple\n",
    "    A, I, O = model\n",
    "    \n",
    "    # get a counts matrix of same size as A\n",
    "    # we use \"ones_like\" instead of \"zeroes_like\" so that\n",
    "    # when normalizing we don't get divisions by zero\n",
    "    # at the same time achieves Laplace smoothing\n",
    "    # https://en.wikipedia.org/wiki/Additive_smoothing\n",
    "    A_counts = np.ones_like(A)\n",
    "    I_counts = np.ones_like(I)\n",
    "    \n",
    "    # loop over sequences (one sequence per day)\n",
    "    for seq in activities_data:\n",
    "        # get initial activity for this dy\n",
    "        I_counts[0, seq[0]] += 1\n",
    "        \n",
    "        # loop activities in this day\n",
    "        for idx in range(1, len(seq)):\n",
    "            # ========================================\n",
    "            # TASK TODO: get current and last activity\n",
    "            # and increase the according entry in the \n",
    "            # transition count matrix\n",
    "            #=========================================\n",
    "            curr = 0 # TO FIX\n",
    "            last = 0 # TO FIX\n",
    "            A_counts[last, curr] += 0 # TO FIX\n",
    "            \n",
    "    # normalize matrix rows to get probabilites\n",
    "    # (so that the sum of each row is 1.0)\n",
    "    # sum up rows, and then divide using broadcasting\n",
    "    # https://docs.scipy.org/doc/numpy/user/basics.broadcasting.html\n",
    "    A_norm = A_counts / A_counts.sum(axis=1, keepdims=True)\n",
    "    I_norm = I_counts / I_counts.sum(axis=1, keepdims=True)\n",
    "    O_norm = observations_counts / observations_counts.sum(axis=1, keepdims=True)\n",
    "    return (A_norm, I_norm, O_norm)\n",
    "\n",
    "\n",
    "def _predict_forward_algorithm(model, test_data):\n",
    "    \"\"\" Forward algorithm for the evaluation problem in HMMs. \n",
    "    \n",
    "    Calculates the probabilty of observation sequences in test_data given model.\n",
    "    https://en.wikipedia.org/wiki/Forward_algorithm\n",
    "    \n",
    "    # Arguments:\n",
    "        model: A trained hidden Markov model\n",
    "        test_data: Sequence of tuples of (_, observation)\n",
    "    \"\"\"\n",
    "    A, I, O = model   # transition matrix, initial probabilities, observation probabilities matrix\n",
    "    num_states = I.shape[1]\n",
    "    predictions = []\n",
    "    # loop sequences (one sequence per day)\n",
    "    for seq_idx, seq in enumerate(test_data):\n",
    "        # forward alpha matrix of shape state_num x max_seq_len\n",
    "        F = np.zeros((num_states, len(seq)))\n",
    "        \n",
    "        # get a sequence of observations from the sequence of (state, observation)\n",
    "        observations = [x for (_, x) in seq]\n",
    "\n",
    "        # initial probabilities\n",
    "        for i in range(0, num_states):\n",
    "            # probability for starting with state i: transition * emission probability\n",
    "            F[i, 0] = I[0, i] * O[i, observations[0]]\n",
    "    \n",
    "        # loop the rest of observations in sequence along time t\n",
    "        for t in range(1, len(observations)):\n",
    "            curr_obs = observations[t]\n",
    "\n",
    "            # all possible transitions k -> i at time t\n",
    "            for i in range(0, num_states):\n",
    "                p_sum = 0\n",
    "                for k in range(0, num_states):\n",
    "                    p_sum += F[k, t-1] * A[k, i] * O[i, curr_obs]\n",
    "                F[i, t] = p_sum\n",
    "                \n",
    "        p_ret = 0.0\n",
    "        for k in range(0, num_states):\n",
    "            p_ret += F[k, -1]\n",
    "            \n",
    "        predictions.append(p_ret)\n",
    "    return predictions\n",
    "\n",
    "    \n",
    "def predict_hidden_markov_model(model, test_data, use_states=True):\n",
    "    \"\"\"Run prediction on a hidden Markov model. \n",
    "    \n",
    "    Predict the probability of a given sequence of activities or observations.\n",
    "    \n",
    "    If use_states is True, state (activity) information can be used - we can easily calculate\n",
    "    the total probability with the product of the individual probabilities of the sequence.\n",
    "    This is then a Markov chain model with observations, as the states (activities) are not hidden.\n",
    "    \n",
    "    If use_states is False, the states (activities) are hidden and we have to find the most likely sequence\n",
    "    in a hidden Markov model.\n",
    "    \n",
    "    # Arguments:\n",
    "        model: A trained hidden Markov model\n",
    "        test_data: Sequence of tuples of (state, observation)\n",
    "        use_states: Use given state information or ignore and predict it\n",
    "    \"\"\"    \n",
    "    # allowed to use state information in the test data, just multiply probabilites\n",
    "    if use_states:\n",
    "        # transition matrix, initial probabilities, observation probabilities matrix\n",
    "        A, I, O = model  \n",
    "        predictions = []\n",
    "        # loop sequences (one sequence per day)\n",
    "        for seq_idx, seq in enumerate(test_data):\n",
    "            # get initial property for first state\n",
    "            seq_prob = I[0, seq[0][0]] * O[0, seq[0][1]]\n",
    "\n",
    "            # loop activities/observations for this day\n",
    "            for idx in range(1, len(seq)):\n",
    "                # =======================================================\n",
    "                # TASK TODO: get current and last activity\n",
    "                # get the transition probability P(curr_state|last_state)\n",
    "                # get the observation probability P(curr_obs|last_obs)\n",
    "                # =======================================================\n",
    "                curr_state, curr_obs = seq[idx]\n",
    "                last_state, _ = seq[idx-1]\n",
    "                seq_prob = seq_prob * 1.0 # TO FIX\n",
    "                \n",
    "            predictions.append(seq_prob)\n",
    "        return predictions\n",
    "    # states are hidden, use forward algorithm\n",
    "    else:\n",
    "        return _predict_forward_algorithm(model, test_data)"
   ]
  },
  {
   "cell_type": "markdown",
   "metadata": {
    "colab_type": "text",
    "id": "xvNi9cGJSyPJ"
   },
   "source": [
    "## 2.1 Training"
   ]
  },
  {
   "cell_type": "code",
   "execution_count": 7,
   "metadata": {
    "colab": {
     "base_uri": "https://localhost:8080/",
     "height": 185
    },
    "colab_type": "code",
    "id": "ac567f-2SyPK",
    "outputId": "0cde3c12-72a9-4b7b-f0f7-183c03171249"
   },
   "outputs": [
    {
     "data": {
      "image/png": "[encoded data removed]",
      "text/plain": [
       "<matplotlib.figure.Figure at 0x10c3a8d30>"
      ]
     },
     "metadata": {},
     "output_type": "display_data"
    }
   ],
   "source": [
    "# train our models\n",
    "models = {}\n",
    "for user in activities_data:\n",
    "    user_activities_data = activities_data[user]\n",
    "    \n",
    "    # initialize and then train model\n",
    "    model = init_hidden_markov_model(states, observations)\n",
    "    model = train_hidden_markov_model(model, user_activities_data, observations_counts)\n",
    "    models[user] = model\n",
    "    \n",
    "# plot our trained models\n",
    "plot_models(models)"
   ]
  },
  {
   "cell_type": "markdown",
   "metadata": {
    "colab_type": "text",
    "collapsed": true,
    "id": "wHn6edOpSyPO"
   },
   "source": [
    "## 2.2 Evaluation (observable states)"
   ]
  },
  {
   "cell_type": "code",
   "execution_count": 8,
   "metadata": {
    "colab": {
     "base_uri": "https://localhost:8080/",
     "height": 1097
    },
    "colab_type": "code",
    "id": "WwdtQwKYSyPP",
    "outputId": "57e558ab-0b7c-435b-9d65-02da8b36869e"
   },
   "outputs": [
    {
     "name": "stdout",
     "output_type": "stream",
     "text": [
      "Testing on data for user A\n",
      "[[0.3059126  0.67613636 0.24843424 0.3059126  0.3059126 ]\n",
      " [0.49164524 0.14488636 0.15970772 0.49164524 0.49164524]\n",
      " [0.20244216 0.17897727 0.59185804 0.20244216 0.20244216]]\n"
     ]
    },
    {
     "data": {
      "text/plain": [
       "<matplotlib.figure.Figure at 0x10b7e46d8>"
      ]
     },
     "metadata": {},
     "output_type": "display_data"
    },
    {
     "data": {
      "image/png": "[encoded data removed]",
      "text/plain": [
       "<matplotlib.figure.Figure at 0x10c2adb70>"
      ]
     },
     "metadata": {},
     "output_type": "display_data"
    },
    {
     "name": "stdout",
     "output_type": "stream",
     "text": [
      "Testing on data for user B\n",
      "[[0.3059126  0.3059126  0.3059126 ]\n",
      " [0.49164524 0.49164524 0.49164524]\n",
      " [0.20244216 0.20244216 0.20244216]]\n"
     ]
    },
    {
     "data": {
      "text/plain": [
       "<matplotlib.figure.Figure at 0x10c197940>"
      ]
     },
     "metadata": {},
     "output_type": "display_data"
    },
    {
     "data": {
      "image/png": "[encoded data removed]",
      "text/plain": [
       "<matplotlib.figure.Figure at 0x10b8856a0>"
      ]
     },
     "metadata": {},
     "output_type": "display_data"
    },
    {
     "name": "stdout",
     "output_type": "stream",
     "text": [
      "Testing on data for user C\n",
      "[[0.24843424 0.24843424 0.3059126  0.24843424]\n",
      " [0.15970772 0.15970772 0.49164524 0.15970772]\n",
      " [0.59185804 0.59185804 0.20244216 0.59185804]]\n"
     ]
    },
    {
     "data": {
      "text/plain": [
       "<matplotlib.figure.Figure at 0x10b8c26a0>"
      ]
     },
     "metadata": {},
     "output_type": "display_data"
    },
    {
     "data": {
      "image/png": "[encoded data removed]",
      "text/plain": [
       "<matplotlib.figure.Figure at 0x10c18b0b8>"
      ]
     },
     "metadata": {},
     "output_type": "display_data"
    }
   ],
   "source": [
    "# test on extra testsets\n",
    "for user_data in testset_data:\n",
    "    print (\"Testing on data for user \" + user_data)\n",
    "    # Calculate predictions for all models\n",
    "    predictions = [predict_hidden_markov_model(models[user_model], testset_data[user_data], use_states=True) \n",
    "                   for user_model in models]\n",
    "    \n",
    "    # Now we have a matrix of the form (users, test_activities)\n",
    "    results = np.array(predictions)\n",
    "    \n",
    "    # Normalize\n",
    "    results /= results.sum(axis=0, keepdims=True)\n",
    "    \n",
    "    # Show normalized results\n",
    "    print (results)\n",
    "    plot_results(results)"
   ]
  },
  {
   "cell_type": "markdown",
   "metadata": {
    "colab_type": "text",
    "collapsed": true,
    "id": "R027wtymSyPU"
   },
   "source": [
    "## 2.2 Evaluation (hidden states)"
   ]
  },
  {
   "cell_type": "code",
   "execution_count": 9,
   "metadata": {
    "colab": {
     "base_uri": "https://localhost:8080/",
     "height": 1046
    },
    "colab_type": "code",
    "id": "A-Z0hPagSyPV",
    "outputId": "582baeda-decf-40e3-f81e-03f905675d9a"
   },
   "outputs": [
    {
     "name": "stdout",
     "output_type": "stream",
     "text": [
      "Testing on data for user A\n",
      "[[0.31864514 0.50394988 0.2724072  0.35254521 0.31864514]\n",
      " [0.40601109 0.24353564 0.27329326 0.38620644 0.40601109]\n",
      " [0.27534377 0.25251448 0.45429955 0.26124835 0.27534377]]\n"
     ]
    },
    {
     "data": {
      "text/plain": [
       "<matplotlib.figure.Figure at 0x10b8c9f60>"
      ]
     },
     "metadata": {},
     "output_type": "display_data"
    },
    {
     "data": {
      "image/png": "[encoded data removed]",
      "text/plain": [
       "<matplotlib.figure.Figure at 0x10bc88ef0>"
      ]
     },
     "metadata": {},
     "output_type": "display_data"
    },
    {
     "name": "stdout",
     "output_type": "stream",
     "text": [
      "Testing on data for user B\n",
      "[[0.31864514 0.31864514 0.31864514]\n",
      " [0.40601109 0.40601109 0.40601109]\n",
      " [0.27534377 0.27534377 0.27534377]]\n"
     ]
    },
    {
     "data": {
      "text/plain": [
       "<matplotlib.figure.Figure at 0x10c398048>"
      ]
     },
     "metadata": {},
     "output_type": "display_data"
    },
    {
     "data": {
      "image/png": "[encoded data removed]",
      "text/plain": [
       "<matplotlib.figure.Figure at 0x10b7caef0>"
      ]
     },
     "metadata": {},
     "output_type": "display_data"
    },
    {
     "name": "stdout",
     "output_type": "stream",
     "text": [
      "Testing on data for user C\n",
      "[[0.2724072  0.2724072  0.31864514 0.2724072 ]\n",
      " [0.27329326 0.27329326 0.40601109 0.27329326]\n",
      " [0.45429955 0.45429955 0.27534377 0.45429955]]\n"
     ]
    },
    {
     "data": {
      "text/plain": [
       "<matplotlib.figure.Figure at 0x10b71c908>"
      ]
     },
     "metadata": {},
     "output_type": "display_data"
    },
    {
     "data": {
      "image/png": "[encoded data removed]",
      "text/plain": [
       "<matplotlib.figure.Figure at 0x10c399438>"
      ]
     },
     "metadata": {},
     "output_type": "display_data"
    }
   ],
   "source": [
    "# test on extra testsets\n",
    "for user_data in testset_data:\n",
    "    print (\"Testing on data for user \" + user_data)\n",
    "    # Calculate predictions for all models\n",
    "    predictions = [predict_hidden_markov_model(models[user_model], testset_data[user_data], use_states=False) \n",
    "                   for user_model in models]\n",
    "    \n",
    "    # Now we have a matrix of the form (users, test_activities)\n",
    "    results = np.array(predictions)\n",
    "    \n",
    "    # Normalize\n",
    "    results /= results.sum(axis=0, keepdims=True)\n",
    "    \n",
    "    # Show normalized results\n",
    "    print (results)\n",
    "    plot_results(results)"
   ]
  },
  {
   "cell_type": "code",
   "execution_count": null,
   "metadata": {
    "collapsed": true
   },
   "outputs": [],
   "source": []
  }
 ],
 "metadata": {
  "colab": {
   "collapsed_sections": [],
   "name": "osue_markov_exercise_tofix.ipynb",
   "provenance": [],
   "version": "0.3.2"
  },
  "kernelspec": {
   "display_name": "Python 3",
   "language": "python",
   "name": "python3"
  },
  "language_info": {
   "codemirror_mode": {
    "name": "ipython",
    "version": 3
   },
   "file_extension": ".py",
   "mimetype": "text/x-python",
   "name": "python",
   "nbconvert_exporter": "python",
   "pygments_lexer": "ipython3",
   "version": "3.6.8"
  }
 },
 "nbformat": 4,
 "nbformat_minor": 1
}
