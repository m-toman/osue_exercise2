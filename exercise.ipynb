{
 "cells": [
  {
   "cell_type": "code",
   "execution_count": 34,
   "metadata": {
    "collapsed": true
   },
   "outputs": [],
   "source": [
    "import os\n",
    "import numpy as np\n",
    "import matplotlib.pyplot as plt"
   ]
  },
  {
   "cell_type": "markdown",
   "metadata": {},
   "source": [
    "# Data"
   ]
  },
  {
   "cell_type": "code",
   "execution_count": 51,
   "metadata": {
    "collapsed": true
   },
   "outputs": [],
   "source": [
    "users = [\"A\", \"B\", \"C\"]  # the three users we are interested in\n",
    "states = {\"work\": 0, \"pause\": 1, \"game\": 2, \"browse\": 3, \"stream\": 4}   # their states (activities)\n",
    "observations = [\"very_low\", \"low\", \"medium\", \"high\", \"very high\"]   # our observations (LED blinking frequency)\n",
    "\n",
    "def convert_state(state):\n",
    "    return states[state]\n",
    "\n",
    "\n",
    "def load_activities(users):\n",
    "    activities_data = {}   # map user -> activties_data\n",
    "    for u in users:\n",
    "        # load activities CSV\n",
    "        path = os.path.join(\"data\", u + \"_activities.csv\")\n",
    "        data = np.genfromtxt(path, dtype='unicode', delimiter='|')\n",
    "        # we are only interested in the second column\n",
    "        # and map the activity names to indices\n",
    "        activities_data[u] = [list(map(convert_state, d.split())) for d in data[:, 1]]\n",
    "    return activities_data\n",
    "\n",
    "\n",
    "def plot_model(model, title=None):\n",
    "    if (len(model) == 2):\n",
    "        A, I = model\n",
    "        plt.figure()\n",
    "        plt.matshow(A)\n",
    "        if title:\n",
    "            plt.title(\"Transition matrix \" + title)\n",
    "        #plt.tight_layout()\n",
    "        plt.show()\n",
    "        \n",
    "        \n",
    "activities_data = load_activities(users)"
   ]
  },
  {
   "cell_type": "markdown",
   "metadata": {},
   "source": [
    "# Task 1: Markov Chain model"
   ]
  },
  {
   "cell_type": "code",
   "execution_count": 82,
   "metadata": {},
   "outputs": [
    {
     "data": {
      "text/plain": [
       "<matplotlib.figure.Figure at 0x109130f98>"
      ]
     },
     "metadata": {},
     "output_type": "display_data"
    },
    {
     "data": {
      "image/png": "[encoded data removed]",
      "text/plain": [
       "<matplotlib.figure.Figure at 0x109130080>"
      ]
     },
     "metadata": {},
     "output_type": "display_data"
    },
    {
     "data": {
      "text/plain": [
       "<matplotlib.figure.Figure at 0x109bd3e48>"
      ]
     },
     "metadata": {},
     "output_type": "display_data"
    },
    {
     "data": {
      "image/png": "[encoded data removed]",
      "text/plain": [
       "<matplotlib.figure.Figure at 0x108a80f60>"
      ]
     },
     "metadata": {},
     "output_type": "display_data"
    },
    {
     "data": {
      "text/plain": [
       "<matplotlib.figure.Figure at 0x108c030b8>"
      ]
     },
     "metadata": {},
     "output_type": "display_data"
    },
    {
     "data": {
      "image/png": "[encoded data removed]",
      "text/plain": [
       "<matplotlib.figure.Figure at 0x10999e550>"
      ]
     },
     "metadata": {},
     "output_type": "display_data"
    }
   ],
   "source": [
    "def init_chain_model(states):\n",
    "    \"\"\" Initialize an empy Markov chain model \"\"\"\n",
    "    # transition probability matrix\n",
    "    A = np.zeros((len(states), len(states)))\n",
    "    \n",
    "    # initial state probability vector\n",
    "    I = np.zeros((1, len(states)))\n",
    "    \n",
    "    return (A, I)\n",
    "\n",
    "\n",
    "def train_chain_model(model, activities_data):\n",
    "    \"\"\" Trains a Markov chain model given \"\"\"\n",
    "    # get transition matrix and initial transition vector from model tuple\n",
    "    A, I = model\n",
    "    \n",
    "    # get a counts matrix of same size as A\n",
    "    # we use \"ones_like\" instead of \"zeroes_like\" so that\n",
    "    # when normalizing we don't get divisions by zero\n",
    "    # at the same time achieves Laplace smoothing\n",
    "    # https://en.wikipedia.org/wiki/Additive_smoothing\n",
    "    A_counts = np.ones_like(A)\n",
    "    \n",
    "    # loop sequences (daily activities)\n",
    "    for seq in activities_data:\n",
    "        # loop activities per day\n",
    "        for idx in range(1, len(seq)):\n",
    "            \n",
    "            # TASK TODO: get current and last activity\n",
    "            # and increase the according entry in the \n",
    "            # transition count matrix\n",
    "            curr = seq[idx]\n",
    "            last = seq[idx-1]\n",
    "            A_counts[last, curr] += 1\n",
    "            \n",
    "    # normalize matrix rows to get probabilites\n",
    "    # (so that the sum of each row is 1.0)\n",
    "    # sum up rows, and then divide using broadcasting\n",
    "    # https://docs.scipy.org/doc/numpy/user/basics.broadcasting.html\n",
    "    A = A_counts / A_counts.sum(axis=1, keepdims=True)\n",
    "    return (A, I)\n",
    "\n",
    "\n",
    "def inference_chain_model(model, sequence):\n",
    "    A, I = model\n",
    "    \n",
    "    return 0.5\n",
    "\n",
    "\n",
    "# train our models\n",
    "for user in activities_data:\n",
    "    user_activities_data = activities_data[user]\n",
    "    chain_model = init_chain_model(states)\n",
    "    chain_model = train_chain_model(chain_model, user_activities_data)\n",
    "    plot_model(chain_model, title=user)\n",
    "    \n",
    "    #print(user)\n",
    "    #print (chain_model[0])\n",
    "\n",
    "# test data"
   ]
  },
  {
   "cell_type": "markdown",
   "metadata": {},
   "source": [
    "# Hidden Markov Model functions\n"
   ]
  },
  {
   "cell_type": "markdown",
   "metadata": {},
   "source": [
    "# Main logic"
   ]
  },
  {
   "cell_type": "code",
   "execution_count": null,
   "metadata": {},
   "outputs": [],
   "source": []
  },
  {
   "cell_type": "code",
   "execution_count": null,
   "metadata": {
    "collapsed": true
   },
   "outputs": [],
   "source": []
  },
  {
   "cell_type": "code",
   "execution_count": null,
   "metadata": {
    "collapsed": true
   },
   "outputs": [],
   "source": []
  }
 ],
 "metadata": {
  "kernelspec": {
   "display_name": "Python 3",
   "language": "python",
   "name": "python3"
  },
  "language_info": {
   "codemirror_mode": {
    "name": "ipython",
    "version": 3
   },
   "file_extension": ".py",
   "mimetype": "text/x-python",
   "name": "python",
   "nbconvert_exporter": "python",
   "pygments_lexer": "ipython3",
   "version": "3.6.8"
  }
 },
 "nbformat": 4,
 "nbformat_minor": 2
}
