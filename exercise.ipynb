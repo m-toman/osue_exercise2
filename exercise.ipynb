{
 "cells": [
  {
   "cell_type": "code",
   "execution_count": 2,
   "metadata": {
    "collapsed": true
   },
   "outputs": [],
   "source": [
    "%matplotlib inline\n",
    "import random\n",
    "import os\n",
    "import numpy as np\n",
    "import matplotlib.pyplot as plt"
   ]
  },
  {
   "cell_type": "markdown",
   "metadata": {},
   "source": [
    "# Data"
   ]
  },
  {
   "cell_type": "code",
   "execution_count": 17,
   "metadata": {},
   "outputs": [
    {
     "data": {
      "image/png": "[encoded data removed]",
      "text/plain": [
       "<matplotlib.figure.Figure at 0x111ff9160>"
      ]
     },
     "metadata": {},
     "output_type": "display_data"
    },
    {
     "data": {
      "image/png": "[encoded data removed]",
      "text/plain": [
       "<matplotlib.figure.Figure at 0x10ff7ee80>"
      ]
     },
     "metadata": {},
     "output_type": "display_data"
    }
   ],
   "source": [
    "users = [\"A\", \"B\", \"C\"]  # the three users we are interested in\n",
    "states = {\"work\": 0, \"pause\": 1, \"game\": 2, \"browse\": 3, \"stream\": 4}   # their states (activities)\n",
    "states_inv = {v: k for k, v in states.items()}\n",
    "observations = {\"none\": 0, \"very_low\": 1, \"low\": 2, \"medium\": 3, \"high\": 4, \"very_high\": 5}   # our observations (LED blinking frequency)\n",
    "observations_inv = {v: k for k, v in observations.items()}\n",
    "\n",
    "def convert_state(state):\n",
    "    return states[state]\n",
    "\n",
    "\n",
    "def convert_observation(observation):\n",
    "    return observations[observation]\n",
    "\n",
    "\n",
    "def load_activities(users):\n",
    "    \"\"\" Loads activities for all users from file \"\"\"\n",
    "    activities_data = {}   # map user -> activties_data\n",
    "    for u in users:\n",
    "        # load activities CSV\n",
    "        path = os.path.join(\"data\", u + \"_activities.csv\")\n",
    "        data = np.genfromtxt(path, dtype='unicode', delimiter='|')\n",
    "        # we are only interested in the second column\n",
    "        # and map the activity names to indices\n",
    "        activities_data[u] = [list(map(convert_state, d.split())) for d in data[:, 1]]\n",
    "    return activities_data\n",
    "\n",
    "\n",
    "def load_observations():\n",
    "    \"\"\" Loads observations from file \"\"\"\n",
    "    # load observations CSV\n",
    "    path = os.path.join(\"data\", \"observations.csv\")\n",
    "    data = np.genfromtxt(path, dtype='unicode', delimiter='|')\n",
    "    \n",
    "    # full matrix\n",
    "    full_data = np.vstack((\n",
    "              np.vectorize(states.get)(data[:, 0]),\n",
    "              np.vectorize(observations.get)(data[:, 1]))).T\n",
    "    \n",
    "    # counts per activity\n",
    "    # dictionary with keys activity, values arrays \n",
    "    # as arr[observation] == count\n",
    "    observation_counts = {}\n",
    "    for row in full_data:\n",
    "        activity, observation = row\n",
    "        if activity not in observation_counts:\n",
    "            observation_counts[activity] = np.zeros((len(observations)))\n",
    "        observation_counts[activity][observation] += 1.0\n",
    "    return (full_data, observation_counts)\n",
    "\n",
    "\n",
    "def split_testset(activities_data, test_set_size=3):\n",
    "    \"\"\" Splits activities data in training and test set \"\"\"\n",
    "    random.seed(1234)\n",
    "    random.shuffle(activities_data)\n",
    "    return (activities_data[test_set_size:],\n",
    "            activities_data[:test_set_size])\n",
    "    \n",
    "\n",
    "def plot_transition_matrices(models):\n",
    "    \"\"\" Plots transition matrices for the provided models \"\"\"\n",
    "    fig, axarr = plt.subplots(1, len(models))\n",
    "    plt_num = 0\n",
    "    for user in models:\n",
    "        A = models[user][0]\n",
    "        axarr[plt_num].matshow(A)\n",
    "        axarr[plt_num].set_title(\"Transition matrix \" + user, y=-0.3)\n",
    "        plt_num += 1\n",
    "    plt.tight_layout()\n",
    "    plt.show()\n",
    "    plt.close(fig)\n",
    "    \n",
    "\n",
    "def plot_results(results_matrix):\n",
    "    \"\"\" Plots classification results \"\"\"\n",
    "    fig = plt.figure(figsize=(100,100))\n",
    "    plt.matshow(results_matrix)\n",
    "    plt.show()\n",
    "    plt.close(fig)\n",
    "\n",
    "\n",
    "def plot_models(models):\n",
    "    # chain model\n",
    "    # if (len(model) == 2):\n",
    "    plot_transition_matrices(models)\n",
    "\n",
    "    \n",
    "def plot_observation_counts(observation_counts):\n",
    "    \"\"\" Plots transition matrices for the provided models \"\"\"\n",
    "    fig, axarr = plt.subplots(1, len(observation_counts))\n",
    "    plt_num = 0\n",
    "    for activity in observation_counts:\n",
    "        counts = [int(c) for c in observation_counts[activity]]\n",
    "        axarr[plt_num].bar(range(len(counts)), counts)\n",
    "        axarr[plt_num].set_title(states_inv[activity], y=-0.15)\n",
    "        plt_num += 1\n",
    "    plt.tight_layout()\n",
    "    plt.show()\n",
    "    plt.close(fig)\n",
    "\n",
    "\n",
    "def plot_activities(activities_data):\n",
    "    fig, axarr = plt.subplots(1, len(activities_data))\n",
    "    plt_num = 0\n",
    "    for user in activities_data:\n",
    "        user_activities = activities_data[user]\n",
    "        flat_activites = [i for sl in user_activities for i in sl]\n",
    "        bins = sorted(states.values())\n",
    "        bins.append(len(states))\n",
    "        axarr[plt_num].hist(flat_activites, bins=bins)\n",
    "        axarr[plt_num].set_xticks(bins)\n",
    "        axarr[plt_num].set_title(\"State counts \" + user, y=-0.2)\n",
    "        plt_num += 1\n",
    "    plt.tight_layout()\n",
    "    plt.show()\n",
    "    plt.close(fig)\n",
    "\n",
    "\n",
    "# load data into global variables\n",
    "activities_data = load_activities(users)\n",
    "observations_data, observations_counts = load_observations()\n",
    "\n",
    "plot_activities(activities_data)\n",
    "plot_observation_counts(observations_counts)"
   ]
  },
  {
   "cell_type": "markdown",
   "metadata": {},
   "source": [
    "# Task 1: Markov chain model"
   ]
  },
  {
   "cell_type": "code",
   "execution_count": 4,
   "metadata": {},
   "outputs": [
    {
     "data": {
      "image/png": "[encoded data removed]",
      "text/plain": [
       "<matplotlib.figure.Figure at 0x1112f1400>"
      ]
     },
     "metadata": {},
     "output_type": "display_data"
    },
    {
     "name": "stdout",
     "output_type": "stream",
     "text": [
      "Testing on data for user A\n",
      "[[8.40756212e-01 9.99097165e-01 9.99946472e-01 9.99097165e-01\n",
      "  9.99677528e-01]\n",
      " [1.71287318e-02 8.54327351e-04 2.75869551e-05 8.54327351e-04\n",
      "  2.84087454e-04]\n",
      " [1.42115056e-01 4.85073112e-05 2.59411581e-05 4.85073112e-05\n",
      "  3.83845438e-05]]\n"
     ]
    },
    {
     "data": {
      "text/plain": [
       "<matplotlib.figure.Figure at 0x1115aa7f0>"
      ]
     },
     "metadata": {},
     "output_type": "display_data"
    },
    {
     "data": {
      "image/png": "[encoded data removed]",
      "text/plain": [
       "<matplotlib.figure.Figure at 0x10ff7eef0>"
      ]
     },
     "metadata": {},
     "output_type": "display_data"
    },
    {
     "name": "stdout",
     "output_type": "stream",
     "text": [
      "\n",
      "Testing on data for user B\n",
      "[[3.98003791e-03 2.45955977e-04 6.83724738e-03 2.52935637e-04\n",
      "  1.09866384e-03]\n",
      " [9.96003647e-01 9.99581723e-01 9.92164725e-01 9.98476554e-01\n",
      "  9.98871963e-01]\n",
      " [1.63148622e-05 1.72320847e-04 9.98027206e-04 1.27050990e-03\n",
      "  2.93728766e-05]]\n"
     ]
    },
    {
     "data": {
      "text/plain": [
       "<matplotlib.figure.Figure at 0x1115afdd8>"
      ]
     },
     "metadata": {},
     "output_type": "display_data"
    },
    {
     "data": {
      "image/png": "[encoded data removed]",
      "text/plain": [
       "<matplotlib.figure.Figure at 0x1114a9630>"
      ]
     },
     "metadata": {},
     "output_type": "display_data"
    },
    {
     "name": "stdout",
     "output_type": "stream",
     "text": [
      "\n",
      "Testing on data for user C\n",
      "[[1.59500010e-02 7.79300387e-03 1.59500010e-02 5.95648867e-03\n",
      "  1.59500010e-02]\n",
      " [1.87920082e-04 8.31299669e-05 1.87920082e-04 4.79226286e-06\n",
      "  1.87920082e-04]\n",
      " [9.83862079e-01 9.92123866e-01 9.83862079e-01 9.94038719e-01\n",
      "  9.83862079e-01]]\n"
     ]
    },
    {
     "data": {
      "text/plain": [
       "<matplotlib.figure.Figure at 0x1112b50b8>"
      ]
     },
     "metadata": {},
     "output_type": "display_data"
    },
    {
     "data": {
      "image/png": "[encoded data removed]",
      "text/plain": [
       "<matplotlib.figure.Figure at 0x111550cc0>"
      ]
     },
     "metadata": {},
     "output_type": "display_data"
    },
    {
     "name": "stdout",
     "output_type": "stream",
     "text": [
      "\n"
     ]
    }
   ],
   "source": [
    "def init_chain_model(states):\n",
    "    \"\"\" Initialize an empy Markov chain model \"\"\"\n",
    "    # transition probability matrix\n",
    "    A = np.zeros((len(states), len(states)))\n",
    "    \n",
    "    # initial state probability vector\n",
    "    I = np.zeros((1, len(states)))\n",
    "    \n",
    "    return (A, I)\n",
    "\n",
    "\n",
    "def train_chain_model(model, activities_data):\n",
    "    \"\"\" Trains a Markov chain model given \"\"\"\n",
    "    # get transition matrix and initial transition vector from model tuple\n",
    "    A, I = model\n",
    "    \n",
    "    # get a counts matrix of same size as A\n",
    "    # we use \"ones_like\" instead of \"zeroes_like\" so that\n",
    "    # when normalizing we don't get divisions by zero\n",
    "    # at the same time achieves Laplace smoothing\n",
    "    # https://en.wikipedia.org/wiki/Additive_smoothing\n",
    "    A_counts = np.ones_like(A)\n",
    "    I_counts = np.ones_like(I)\n",
    "    \n",
    "    # loop over sequences (one sequence per day)\n",
    "    for seq in activities_data:\n",
    "        # get initial activity for this dy\n",
    "        I_counts[0, seq[0]] += 1\n",
    "        \n",
    "        # loop activities in this day\n",
    "        for idx in range(1, len(seq)):\n",
    "            \n",
    "            # TASK TODO: get current and last activity\n",
    "            # and increase the according entry in the \n",
    "            # transition count matrix\n",
    "            curr = seq[idx]\n",
    "            last = seq[idx-1]\n",
    "            A_counts[last, curr] += 1\n",
    "            \n",
    "    # normalize matrix rows to get probabilites\n",
    "    # (so that the sum of each row is 1.0)\n",
    "    # sum up rows, and then divide using broadcasting\n",
    "    # https://docs.scipy.org/doc/numpy/user/basics.broadcasting.html\n",
    "    A = A_counts / A_counts.sum(axis=1, keepdims=True)\n",
    "    I = I_counts / I_counts.sum(axis=1, keepdims=True)\n",
    "    return (A, I)\n",
    "\n",
    "\n",
    "def predict_chain_model(model, activities_data):\n",
    "    \"\"\" Run prediction on the model \"\"\"\n",
    "    A, I = model\n",
    "    \n",
    "    predictions = []\n",
    "    # loop sequences (daily activities)\n",
    "    for seq_idx, seq in enumerate(activities_data):\n",
    "        # get initial property for first state\n",
    "        seq_prob = I[0, seq[0]]\n",
    "        \n",
    "        # loop activities per day\n",
    "        for idx in range(1, len(seq)):\n",
    "            # TASK TODO: get current and last activity\n",
    "            # get the transition probability P(curr|last)\n",
    "            curr = seq[idx]\n",
    "            last = seq[idx-1]\n",
    "            seq_prob = seq_prob * A[last, curr]\n",
    "        predictions.append(seq_prob)\n",
    "    return predictions\n",
    "\n",
    "\n",
    "# train our models\n",
    "chain_models = {}\n",
    "test_data = {}\n",
    "for user in activities_data:\n",
    "    user_activities_data = activities_data[user]\n",
    "    user_train_data, user_test_data = split_testset(user_activities_data, 5)\n",
    "    \n",
    "    # store test data\n",
    "    test_data[user] = user_test_data\n",
    "    \n",
    "    # initialize and then train model\n",
    "    chain_model = init_chain_model(states)\n",
    "    chain_model = train_chain_model(chain_model, user_train_data)\n",
    "    chain_models[user] = chain_model\n",
    "    \n",
    "# plot our trained models\n",
    "plot_models(chain_models)\n",
    "    \n",
    "# test on held-out data \n",
    "for user_data in test_data:\n",
    "    print (\"Testing on data for user \" + user_data)\n",
    "    # Calculate predictions for all models\n",
    "    predictions = [predict_chain_model(chain_models[user_model], test_data[user_data]) \n",
    "                   for user_model in chain_models]\n",
    "    \n",
    "    # Now we have a matrix of the form (users, test_activities)\n",
    "    results = np.array(predictions)\n",
    "    #print (results)\n",
    "    \n",
    "    # Normalize\n",
    "    results /= results.sum(axis=0, keepdims=True)\n",
    "    print (results)\n",
    "    plot_results(results)\n",
    "\n",
    "    print(\"\")\n",
    "    \n",
    "    #print(user)\n",
    "    #print (chain_model[0])\n",
    "\n",
    "# test data"
   ]
  },
  {
   "cell_type": "markdown",
   "metadata": {},
   "source": [
    "# Task 2: Markov chain model with observations\n"
   ]
  },
  {
   "cell_type": "markdown",
   "metadata": {},
   "source": [
    "# Task 3: Hidden Markov model"
   ]
  },
  {
   "cell_type": "code",
   "execution_count": 3,
   "metadata": {},
   "outputs": [
    {
     "ename": "TypeError",
     "evalue": "load_observations() missing 1 required positional argument: 'users'",
     "output_type": "error",
     "traceback": [
      "\u001b[0;31m---------------------------------------------------------------------------\u001b[0m",
      "\u001b[0;31mTypeError\u001b[0m                                 Traceback (most recent call last)",
      "\u001b[0;32m<ipython-input-3-c11ccd48999a>\u001b[0m in \u001b[0;36m<module>\u001b[0;34m()\u001b[0m\n\u001b[0;32m----> 1\u001b[0;31m \u001b[0mload_observations\u001b[0m\u001b[0;34m(\u001b[0m\u001b[0;34m)\u001b[0m\u001b[0;34m\u001b[0m\u001b[0;34m\u001b[0m\u001b[0m\n\u001b[0m",
      "\u001b[0;31mTypeError\u001b[0m: load_observations() missing 1 required positional argument: 'users'"
     ]
    }
   ],
   "source": []
  },
  {
   "cell_type": "code",
   "execution_count": null,
   "metadata": {
    "collapsed": true
   },
   "outputs": [],
   "source": []
  },
  {
   "cell_type": "code",
   "execution_count": null,
   "metadata": {
    "collapsed": true
   },
   "outputs": [],
   "source": []
  },
  {
   "cell_type": "code",
   "execution_count": null,
   "metadata": {
    "collapsed": true
   },
   "outputs": [],
   "source": []
  },
  {
   "cell_type": "code",
   "execution_count": null,
   "metadata": {
    "collapsed": true
   },
   "outputs": [],
   "source": []
  },
  {
   "cell_type": "code",
   "execution_count": null,
   "metadata": {
    "collapsed": true
   },
   "outputs": [],
   "source": []
  },
  {
   "cell_type": "code",
   "execution_count": null,
   "metadata": {
    "collapsed": true
   },
   "outputs": [],
   "source": []
  },
  {
   "cell_type": "code",
   "execution_count": null,
   "metadata": {
    "collapsed": true
   },
   "outputs": [],
   "source": []
  }
 ],
 "metadata": {
  "kernelspec": {
   "display_name": "Python 3",
   "language": "python",
   "name": "python3"
  },
  "language_info": {
   "codemirror_mode": {
    "name": "ipython",
    "version": 3
   },
   "file_extension": ".py",
   "mimetype": "text/x-python",
   "name": "python",
   "nbconvert_exporter": "python",
   "pygments_lexer": "ipython3",
   "version": "3.6.8"
  }
 },
 "nbformat": 4,
 "nbformat_minor": 2
}
